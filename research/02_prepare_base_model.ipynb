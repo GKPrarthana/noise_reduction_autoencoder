{
 "cells": [
  {
   "cell_type": "code",
   "execution_count": 1,
   "id": "157453de",
   "metadata": {},
   "outputs": [
    {
     "data": {
      "text/plain": [
       "'c:\\\\Users\\\\Prarthana\\\\Desktop\\\\projects\\\\noise_reduction_autoencoder\\\\research'"
      ]
     },
     "execution_count": 1,
     "metadata": {},
     "output_type": "execute_result"
    }
   ],
   "source": [
    "import os\n",
    "%pwd"
   ]
  },
  {
   "cell_type": "code",
   "execution_count": 2,
   "id": "34a027c8",
   "metadata": {},
   "outputs": [
    {
     "data": {
      "text/plain": [
       "'c:\\\\Users\\\\Prarthana\\\\Desktop\\\\projects\\\\noise_reduction_autoencoder'"
      ]
     },
     "execution_count": 2,
     "metadata": {},
     "output_type": "execute_result"
    }
   ],
   "source": [
    "os.chdir('../')\n",
    "%pwd"
   ]
  },
  {
   "cell_type": "code",
   "execution_count": null,
   "id": "00c9e617",
   "metadata": {},
   "outputs": [],
   "source": [
    "#update entity\n",
    "from dataclasses import dataclass\n",
    "from pathlib import Path\n",
    "\n",
    "@dataclass(frozen=True)\n",
    "class PrepareBaseModelConfig:\n",
    "    root_dir: Path\n",
    "    base_model_path: Path\n",
    "    params: dict"
   ]
  },
  {
   "cell_type": "code",
   "execution_count": 4,
   "id": "69604726",
   "metadata": {},
   "outputs": [],
   "source": [
    "#update configuration manager\n",
    "from src.constants import CONFIG_FILE_PATH, PARAMS_FILE_PATH\n",
    "from src.utils.common import read_yaml, create_directories\n",
    "#from src.entity.config_entity import DataIngestionConfig, PrepareBaseModelConfig\n",
    "from pathlib import Path\n",
    "\n",
    "class ConfigurationManager:\n",
    "    def __init__(self, config_filepath=CONFIG_FILE_PATH, params_filepath=PARAMS_FILE_PATH):\n",
    "        self.config = read_yaml(config_filepath)\n",
    "        self.params = read_yaml(params_filepath)\n",
    "        create_directories([Path(self.config.artifacts_root)])\n",
    "\n",
    "    def get_prepare_base_model_config(self) -> PrepareBaseModelConfig:\n",
    "        config = self.config.prepare_base_model\n",
    "        create_directories([Path(config.root_dir)])\n",
    "        return PrepareBaseModelConfig(\n",
    "            root_dir=Path(config.root_dir),\n",
    "            base_model_path=Path(config.base_model_path),\n",
    "            params=self.params\n",
    "        )"
   ]
  },
  {
   "cell_type": "code",
   "execution_count": 8,
   "id": "b9a4496c",
   "metadata": {},
   "outputs": [],
   "source": [
    "#update components\n",
    "import tensorflow as tf\n",
    "from pathlib import Path\n",
    "from src import logger\n",
    "from src.entity.config_entity import PrepareBaseModelConfig\n",
    "\n",
    "class PrepareBaseModel:\n",
    "    def __init__(self, config: PrepareBaseModelConfig):\n",
    "        \"\"\"Initialize with configuration.\"\"\"\n",
    "        self.config = config\n",
    "\n",
    "    def get_base_model(self):\n",
    "        \"\"\"Create the base autoencoder model.\"\"\"\n",
    "        try:\n",
    "            self.model = self._build_autoencoder()\n",
    "            self.save_model(path=self.config.base_model_path, model=self.model)\n",
    "            logger.info(\"Base autoencoder model created and saved\")\n",
    "        except Exception as e:\n",
    "            logger.error(f\"Failed to create base model: {e}\")\n",
    "            raise e\n",
    "\n",
    "    def _build_autoencoder(self):\n",
    "        \"\"\"Build the convolutional autoencoder architecture.\"\"\"\n",
    "        input_img = tf.keras.Input(shape=(self.config.params[\"IMAGE_SIZE\"][0],\n",
    "                                       self.config.params[\"IMAGE_SIZE\"][1], 1))\n",
    "        # Encoder\n",
    "        x = tf.keras.layers.Conv2D(self.config.params[\"MODEL\"][\"FILTERS\"][0],\n",
    "                                 self.config.params[\"MODEL\"][\"KERNEL_SIZE\"],\n",
    "                                 activation='relu', padding='same')(input_img)\n",
    "        x = tf.keras.layers.MaxPooling2D((2, 2), padding='same')(x)\n",
    "        x = tf.keras.layers.Conv2D(self.config.params[\"MODEL\"][\"FILTERS\"][1],\n",
    "                                 self.config.params[\"MODEL\"][\"KERNEL_SIZE\"],\n",
    "                                 activation='relu', padding='same')(x)\n",
    "        encoded = tf.keras.layers.MaxPooling2D((2, 2), padding='same')(x)\n",
    "        # Decoder\n",
    "        x = tf.keras.layers.Conv2D(self.config.params[\"MODEL\"][\"FILTERS\"][1],\n",
    "                                 self.config.params[\"MODEL\"][\"KERNEL_SIZE\"],\n",
    "                                 activation='relu', padding='same')(encoded)\n",
    "        x = tf.keras.layers.UpSampling2D((2, 2))(x)\n",
    "        x = tf.keras.layers.Conv2D(self.config.params[\"MODEL\"][\"FILTERS\"][0],\n",
    "                                 self.config.params[\"MODEL\"][\"KERNEL_SIZE\"],\n",
    "                                 activation='relu', padding='same')(x)\n",
    "        x = tf.keras.layers.UpSampling2D((2, 2))(x)\n",
    "        decoded = tf.keras.layers.Conv2D(1, self.config.params[\"MODEL\"][\"KERNEL_SIZE\"],\n",
    "                                      activation='sigmoid', padding='same')(x)\n",
    "        autoencoder = tf.keras.Model(input_img, decoded)\n",
    "        return autoencoder\n",
    "\n",
    "    @staticmethod\n",
    "    def _prepare_full_model(model, learning_rate):\n",
    "        \"\"\"Compile the autoencoder model.\"\"\"\n",
    "        model.compile(\n",
    "            optimizer=tf.keras.optimizers.Adam(learning_rate=learning_rate),\n",
    "            loss=tf.keras.losses.MeanSquaredError(),\n",
    "            metrics=[\"mae\"]  # Mean Absolute Error for monitoring\n",
    "        )\n",
    "        model.summary(print_fn=lambda x: logger.info(x.encode('ascii', 'ignore').decode('ascii')))\n",
    "\n",
    "        return model\n",
    "\n",
    "    def update_base_model(self):\n",
    "        \"\"\"Prepare and save the full autoencoder model.\"\"\"\n",
    "        try:\n",
    "            self.full_model = self._prepare_full_model(\n",
    "                model=self.model,\n",
    "                learning_rate=self.config.params[\"MODEL\"][\"LEARNING_RATE\"]\n",
    "            )\n",
    "            self.save_model(path=self.config.base_model_path, model=self.full_model)\n",
    "            logger.info(\"Full autoencoder model updated and saved\")\n",
    "        except Exception as e:\n",
    "            logger.error(f\"Failed to update base model: {e}\")\n",
    "            raise e\n",
    "\n",
    "    @staticmethod\n",
    "    def save_model(path: Path, model: tf.keras.Model):\n",
    "        \"\"\"Save the model to the specified path.\"\"\"\n",
    "        try:\n",
    "            model.save(path)\n",
    "            logger.info(f\"Model saved to {path}\")\n",
    "        except Exception as e:\n",
    "            logger.error(f\"Failed to save model: {e}\")\n",
    "            raise e"
   ]
  },
  {
   "cell_type": "code",
   "execution_count": 9,
   "id": "a44c3724",
   "metadata": {},
   "outputs": [
    {
     "name": "stdout",
     "output_type": "stream",
     "text": [
      "[2025-04-22 00:17:52,124: INFO: common: YAML file: config\\config.yaml loaded successfully]\n",
      "[2025-04-22 00:17:52,129: INFO: common: YAML file: params.yaml loaded successfully]\n",
      "[2025-04-22 00:17:52,131: INFO: common: Created directory at: artifacts]\n",
      "[2025-04-22 00:17:52,133: INFO: common: Created directory at: artifacts\\models]\n"
     ]
    },
    {
     "name": "stdout",
     "output_type": "stream",
     "text": [
      "[2025-04-22 00:17:52,204: INFO: 2279715737: Model saved to artifacts\\models\\base_autoencoder.keras]\n",
      "[2025-04-22 00:17:52,205: INFO: 2279715737: Base autoencoder model created and saved]\n"
     ]
    },
    {
     "data": {
      "text/html": [
       "<pre style=\"white-space:pre;overflow-x:auto;line-height:normal;font-family:Menlo,'DejaVu Sans Mono',consolas,'Courier New',monospace\"></pre>\n"
      ],
      "text/plain": []
     },
     "metadata": {},
     "output_type": "display_data"
    },
    {
     "name": "stdout",
     "output_type": "stream",
     "text": [
      "[2025-04-22 00:17:52,218: INFO: 2279715737: Model: \"functional_1\"\n",
      "\n",
      " Layer (type)                     Output Shape                  Param # \n",
      "\n",
      " input_layer_1 (InputLayer)       (None, 128, 128, 1)                 0 \n",
      "\n",
      " conv2d_5 (Conv2D)                (None, 128, 128, 32)              320 \n",
      "\n",
      " max_pooling2d_2 (MaxPooling2D)   (None, 64, 64, 32)                  0 \n",
      "\n",
      " conv2d_6 (Conv2D)                (None, 64, 64, 64)             18,496 \n",
      "\n",
      " max_pooling2d_3 (MaxPooling2D)   (None, 32, 32, 64)                  0 \n",
      "\n",
      " conv2d_7 (Conv2D)                (None, 32, 32, 64)             36,928 \n",
      "\n",
      " up_sampling2d_2 (UpSampling2D)   (None, 64, 64, 64)                  0 \n",
      "\n",
      " conv2d_8 (Conv2D)                (None, 64, 64, 32)             18,464 \n",
      "\n",
      " up_sampling2d_3 (UpSampling2D)   (None, 128, 128, 32)                0 \n",
      "\n",
      " conv2d_9 (Conv2D)                (None, 128, 128, 1)               289 \n",
      "\n",
      " Total params: 74,497 (291.00 KB)\n",
      " Trainable params: 74,497 (291.00 KB)\n",
      " Non-trainable params: 0 (0.00 B)\n",
      "]\n",
      "[2025-04-22 00:17:52,265: INFO: 2279715737: Model saved to artifacts\\models\\base_autoencoder.keras]\n",
      "[2025-04-22 00:17:52,265: INFO: 2279715737: Full autoencoder model updated and saved]\n"
     ]
    }
   ],
   "source": [
    "#update pipeline\n",
    "try:\n",
    "    config = ConfigurationManager()\n",
    "    prepare_base_model_config = config.get_prepare_base_model_config()\n",
    "    prepare_base_model = PrepareBaseModel(config=prepare_base_model_config)\n",
    "    prepare_base_model.get_base_model()\n",
    "    prepare_base_model.update_base_model()\n",
    "except Exception as e:\n",
    "    logger.error(f\"Error in prepare base model: {e}\", exc_info=True)\n",
    "    raise e"
   ]
  },
  {
   "cell_type": "code",
   "execution_count": null,
   "id": "9cb6c2d0",
   "metadata": {},
   "outputs": [],
   "source": []
  }
 ],
 "metadata": {
  "kernelspec": {
   "display_name": "denoise_env",
   "language": "python",
   "name": "python3"
  },
  "language_info": {
   "codemirror_mode": {
    "name": "ipython",
    "version": 3
   },
   "file_extension": ".py",
   "mimetype": "text/x-python",
   "name": "python",
   "nbconvert_exporter": "python",
   "pygments_lexer": "ipython3",
   "version": "3.12.2"
  }
 },
 "nbformat": 4,
 "nbformat_minor": 5
}
