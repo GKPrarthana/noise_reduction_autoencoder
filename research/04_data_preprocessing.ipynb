{
 "cells": [
  {
   "cell_type": "code",
   "execution_count": 1,
   "id": "cf3b4031",
   "metadata": {},
   "outputs": [
    {
     "data": {
      "text/plain": [
       "'c:\\\\Users\\\\Prarthana\\\\Desktop\\\\projects\\\\noise_reduction_autoencoder\\\\research'"
      ]
     },
     "execution_count": 1,
     "metadata": {},
     "output_type": "execute_result"
    }
   ],
   "source": [
    "import os\n",
    "%pwd"
   ]
  },
  {
   "cell_type": "code",
   "execution_count": 2,
   "id": "7d20d8ae",
   "metadata": {},
   "outputs": [
    {
     "data": {
      "text/plain": [
       "'c:\\\\Users\\\\Prarthana\\\\Desktop\\\\projects\\\\noise_reduction_autoencoder'"
      ]
     },
     "execution_count": 2,
     "metadata": {},
     "output_type": "execute_result"
    }
   ],
   "source": [
    "os.chdir('../')\n",
    "%pwd"
   ]
  },
  {
   "cell_type": "code",
   "execution_count": 3,
   "id": "8344f87d",
   "metadata": {},
   "outputs": [],
   "source": [
    "#update entity\n",
    "from dataclasses import dataclass\n",
    "from pathlib import Path\n",
    "\n",
    "@dataclass(frozen=True)\n",
    "class DataPreprocessingConfig:\n",
    "    data_dir: Path\n",
    "    image_size: int\n",
    "    batch_size: int\n",
    "    shuffle_buffer_size: int"
   ]
  },
  {
   "cell_type": "code",
   "execution_count": 4,
   "id": "9986f761",
   "metadata": {},
   "outputs": [],
   "source": [
    "#update configuration manager\n",
    "from src import logger\n",
    "from src.utils.common import read_yaml, create_directories\n",
    "#from src.entity.config_entity import DataIngestionConfig, DataSplittingConfig, DataPreprocessingConfig\n",
    "\n",
    "class ConfigurationManager:\n",
    "    def __init__(self, config_filepath=\"config/config.yaml\", params_filepath=\"params.yaml\"):\n",
    "        self.config = read_yaml(Path(config_filepath))\n",
    "        self.params = read_yaml(Path(params_filepath))\n",
    "        create_directories([self.config.artifacts_root])\n",
    "\n",
    "    def get_data_preprocessing_config(self) -> DataPreprocessingConfig:\n",
    "        config = self.config.data_preprocessing\n",
    "        data_preprocessing_config = DataPreprocessingConfig(\n",
    "            data_dir=config.data_dir,\n",
    "            image_size=config.image_size,\n",
    "            batch_size=config.batch_size,\n",
    "            shuffle_buffer_size=config.shuffle_buffer_size\n",
    "        )\n",
    "        return data_preprocessing_config"
   ]
  },
  {
   "cell_type": "code",
   "execution_count": 6,
   "id": "90e68893",
   "metadata": {},
   "outputs": [],
   "source": [
    "#update components\n",
    "import tensorflow as tf\n",
    "from pathlib import Path\n",
    "import numpy as np\n",
    "from src import logger\n",
    "#from src.entity.config_entity import DataPreprocessingConfig\n",
    "\n",
    "class DataPreprocessing:\n",
    "    def __init__(self, config: DataPreprocessingConfig):\n",
    "        self.config = config\n",
    "\n",
    "    def load_and_preprocess_image(self, clean_path, noisy_path):\n",
    "        \"\"\"Load and preprocess a pair of clean and noisy images.\"\"\"\n",
    "        # Read images\n",
    "        clean_img = tf.io.read_file(clean_path)\n",
    "        noisy_img = tf.io.read_file(noisy_path)\n",
    "        \n",
    "        # Decode JPEG images\n",
    "        clean_img = tf.image.decode_jpeg(clean_img, channels=1)  # Grayscale\n",
    "        noisy_img = tf.image.decode_jpeg(noisy_img, channels=1)\n",
    "        \n",
    "        # Convert to float32 and normalize to [0, 1]\n",
    "        clean_img = tf.cast(clean_img, tf.float32) / 255.0\n",
    "        noisy_img = tf.cast(noisy_img, tf.float32) / 255.0\n",
    "        \n",
    "        # Resize images\n",
    "        clean_img = tf.image.resize(clean_img, [self.config.image_size, self.config.image_size])\n",
    "        noisy_img = tf.image.resize(noisy_img, [self.config.image_size, self.config.image_size])\n",
    "        \n",
    "        return noisy_img, clean_img  # Input: noisy, Target: clean\n",
    "\n",
    "    def create_dataset(self, clean_paths, noisy_paths, split):\n",
    "        \"\"\"Create a TensorFlow dataset for a given split.\"\"\"\n",
    "        dataset = tf.data.Dataset.from_tensor_slices((clean_paths, noisy_paths))\n",
    "        dataset = dataset.map(\n",
    "            lambda clean, noisy: self.load_and_preprocess_image(clean, noisy),\n",
    "            num_parallel_calls=tf.data.AUTOTUNE\n",
    "        )\n",
    "        \n",
    "        # Apply batching and shuffling for training set\n",
    "        if split == \"train\":\n",
    "            dataset = dataset.shuffle(buffer_size=self.config.shuffle_buffer_size)\n",
    "        dataset = dataset.batch(self.config.batch_size)\n",
    "        dataset = dataset.prefetch(tf.data.AUTOTUNE)\n",
    "        \n",
    "        return dataset\n",
    "\n",
    "    def preprocess(self):\n",
    "        \"\"\"Preprocess images and create datasets for train, val, and test splits.\"\"\"\n",
    "        try:\n",
    "            logger.info(\"Starting data preprocessing\")\n",
    "            \n",
    "            splits = [\"train\", \"val\", \"test\"]\n",
    "            datasets = {}\n",
    "            \n",
    "            for split in splits:\n",
    "                # Collect clean and noisy image paths\n",
    "                clean_normal_dir = Path(self.config.data_dir) / split / \"clean\" / \"NORMAL\"\n",
    "                clean_pneumonia_dir = Path(self.config.data_dir) / split / \"clean\" / \"PNEUMONIA\"\n",
    "                noisy_normal_dir = Path(self.config.data_dir) / split / \"noisy\" / \"NORMAL\"\n",
    "                noisy_pneumonia_dir = Path(self.config.data_dir) / split / \"noisy\" / \"PNEUMONIA\"\n",
    "                \n",
    "                # Get image paths\n",
    "                clean_normal_paths = [str(p) for p in clean_normal_dir.glob(\"*.jpeg\")]\n",
    "                clean_pneumonia_paths = [str(p) for p in clean_pneumonia_dir.glob(\"*.jpeg\")]\n",
    "                noisy_normal_paths = [str(p) for p in noisy_normal_dir.glob(\"*.jpeg\")]\n",
    "                noisy_pneumonia_paths = [str(p) for p in noisy_pneumonia_dir.glob(\"*.jpeg\")]\n",
    "                \n",
    "                # Combine paths\n",
    "                clean_paths = clean_normal_paths + clean_pneumonia_paths\n",
    "                noisy_paths = noisy_normal_paths + noisy_pneumonia_paths\n",
    "                \n",
    "                # Sort to ensure pairing\n",
    "                clean_paths.sort()\n",
    "                noisy_paths.sort()\n",
    "                \n",
    "                # Log counts\n",
    "                logger.info(f\"{split} set: {len(clean_paths)} clean images, {len(noisy_paths)} noisy images\")\n",
    "                \n",
    "                if len(clean_paths) != len(noisy_paths):\n",
    "                    raise ValueError(f\"Mismatch in {split} set: {len(clean_paths)} clean vs {len(noisy_paths)} noisy images\")\n",
    "                \n",
    "                if len(clean_paths) == 0:\n",
    "                    raise ValueError(f\"No images found in {split} set\")\n",
    "                \n",
    "                # Create dataset\n",
    "                dataset = self.create_dataset(clean_paths, noisy_paths, split)\n",
    "                datasets[split] = dataset\n",
    "            \n",
    "            logger.info(\"Data preprocessing completed\")\n",
    "            return datasets\n",
    "        \n",
    "        except Exception as e:\n",
    "            logger.error(f\"Data preprocessing failed: {e}\", exc_info=True)\n",
    "            raise e"
   ]
  },
  {
   "cell_type": "code",
   "execution_count": 7,
   "id": "e9f27215",
   "metadata": {},
   "outputs": [
    {
     "name": "stdout",
     "output_type": "stream",
     "text": [
      "[2025-04-23 22:26:07,526: INFO: common: YAML file: config\\config.yaml loaded successfully]\n",
      "[2025-04-23 22:26:07,531: INFO: common: YAML file: params.yaml loaded successfully]\n",
      "[2025-04-23 22:26:07,533: INFO: common: Created directory at: artifacts]\n",
      "[2025-04-23 22:26:07,534: INFO: 1408370280: Starting data preprocessing]\n",
      "[2025-04-23 22:26:07,548: INFO: 1408370280: train set: 436 clean images, 436 noisy images]\n",
      "[2025-04-23 22:26:07,899: INFO: 1408370280: val set: 93 clean images, 93 noisy images]\n",
      "[2025-04-23 22:26:07,917: INFO: 1408370280: test set: 95 clean images, 95 noisy images]\n",
      "[2025-04-23 22:26:07,934: INFO: 1408370280: Data preprocessing completed]\n"
     ]
    }
   ],
   "source": [
    "#update pipeline\n",
    "try:\n",
    "    config = ConfigurationManager()\n",
    "    data_preprocessing_config = config.get_data_preprocessing_config()\n",
    "    data_preprocessing = DataPreprocessing(config=data_preprocessing_config)\n",
    "    datasets = data_preprocessing.preprocess()\n",
    "except Exception as e:\n",
    "    raise e"
   ]
  },
  {
   "cell_type": "code",
   "execution_count": null,
   "id": "c119b8f9",
   "metadata": {},
   "outputs": [],
   "source": [
    "#research"
   ]
  },
  {
   "cell_type": "code",
   "execution_count": 3,
   "id": "89e03fb4",
   "metadata": {},
   "outputs": [
    {
     "name": "stdout",
     "output_type": "stream",
     "text": [
      "[2025-04-23 22:34:31,142: INFO: common: YAML file: c:\\Users\\Prarthana\\Desktop\\projects\\noise_reduction_autoencoder\\config\\config.yaml loaded successfully]\n",
      "[2025-04-23 22:34:31,144: INFO: common: YAML file: c:\\Users\\Prarthana\\Desktop\\projects\\noise_reduction_autoencoder\\params.yaml loaded successfully]\n",
      "[2025-04-23 22:34:31,145: INFO: common: Created directory at: artifacts]\n",
      "[2025-04-23 22:34:31,145: INFO: data_preprocessing: Starting data preprocessing]\n",
      "[2025-04-23 22:34:31,151: INFO: data_preprocessing: train set: 436 clean images, 436 noisy images]\n",
      "[2025-04-23 22:34:31,251: INFO: data_preprocessing: val set: 93 clean images, 93 noisy images]\n",
      "[2025-04-23 22:34:31,266: INFO: data_preprocessing: test set: 95 clean images, 95 noisy images]\n",
      "[2025-04-23 22:34:31,289: INFO: data_preprocessing: Data preprocessing completed]\n",
      "train dataset size (batches): 14\n",
      "val dataset size (batches): 3\n",
      "test dataset size (batches): 3\n"
     ]
    }
   ],
   "source": [
    "import tensorflow as tf\n",
    "from src.config.configuration import ConfigurationManager\n",
    "from src.components.data_preprocessing import DataPreprocessing\n",
    "\n",
    "# Load the datasets\n",
    "config = ConfigurationManager()\n",
    "data_preprocessing_config = config.get_data_preprocessing_config()\n",
    "data_preprocessing = DataPreprocessing(config=data_preprocessing_config)\n",
    "datasets = data_preprocessing.preprocess()\n",
    "\n",
    "# Log dataset sizes (in batches)\n",
    "for split, dataset in datasets.items():\n",
    "    dataset_size = tf.data.experimental.cardinality(dataset).numpy()\n",
    "    print(f\"{split} dataset size (batches): {dataset_size}\")"
   ]
  },
  {
   "cell_type": "code",
   "execution_count": 8,
   "id": "c800dec4",
   "metadata": {},
   "outputs": [
    {
     "name": "stdout",
     "output_type": "stream",
     "text": [
      "[2025-04-23 22:39:47,153: INFO: common: YAML file: c:\\Users\\Prarthana\\Desktop\\projects\\noise_reduction_autoencoder\\config\\config.yaml loaded successfully]\n",
      "[2025-04-23 22:39:47,157: INFO: common: YAML file: c:\\Users\\Prarthana\\Desktop\\projects\\noise_reduction_autoencoder\\params.yaml loaded successfully]\n",
      "[2025-04-23 22:39:47,159: INFO: common: Created directory at: artifacts]\n",
      "[2025-04-23 22:39:47,161: INFO: data_preprocessing: Starting data preprocessing]\n",
      "[2025-04-23 22:39:47,173: INFO: data_preprocessing: train set: 436 clean images, 436 noisy images]\n",
      "[2025-04-23 22:39:47,201: INFO: data_preprocessing: val set: 93 clean images, 93 noisy images]\n",
      "[2025-04-23 22:39:47,223: INFO: data_preprocessing: test set: 95 clean images, 95 noisy images]\n",
      "[2025-04-23 22:39:47,241: INFO: data_preprocessing: Data preprocessing completed]\n",
      "Plot saved to docs\\plots\\sample_clean_noisy_pair.png\n"
     ]
    }
   ],
   "source": [
    "import matplotlib.pyplot as plt\n",
    "import tensorflow as tf\n",
    "from src.config.configuration import ConfigurationManager\n",
    "from src.components.data_preprocessing import DataPreprocessing\n",
    "from pathlib import Path\n",
    "\n",
    "# Ensure the save directory exists\n",
    "save_dir = Path(\"docs/plots\")\n",
    "save_dir.mkdir(parents=True, exist_ok=True)\n",
    "\n",
    "# Load the datasets\n",
    "config = ConfigurationManager()\n",
    "data_preprocessing_config = config.get_data_preprocessing_config()\n",
    "data_preprocessing = DataPreprocessing(config=data_preprocessing_config)\n",
    "datasets = data_preprocessing.preprocess()\n",
    "\n",
    "# Extract a sample clean-noisy pair from the training dataset\n",
    "train_dataset = datasets[\"train\"]\n",
    "batch = next(iter(train_dataset.take(1)))  # Get the first batch\n",
    "noisy_img, clean_img = batch[0][0], batch[1][0]  # Get the first image pair from the batch\n",
    "\n",
    "# Create the plot\n",
    "plt.figure(figsize=(8, 4))\n",
    "plt.subplot(1, 2, 1)\n",
    "plt.imshow(noisy_img, cmap=\"gray\")\n",
    "plt.title(\"Noisy Image\")\n",
    "plt.axis(\"off\")  # Optional: Hide axes for cleaner visuals\n",
    "plt.subplot(1, 2, 2)\n",
    "plt.imshow(clean_img, cmap=\"gray\")\n",
    "plt.title(\"Clean Image\")\n",
    "plt.axis(\"off\")\n",
    "plt.tight_layout()\n",
    "\n",
    "# Save the plot\n",
    "save_path = save_dir / \"sample_clean_noisy_pair.png\"\n",
    "plt.savefig(save_path)\n",
    "plt.close()\n",
    "print(f\"Plot saved to {save_path}\")"
   ]
  },
  {
   "cell_type": "code",
   "execution_count": null,
   "id": "3b79d9bd",
   "metadata": {},
   "outputs": [],
   "source": []
  }
 ],
 "metadata": {
  "kernelspec": {
   "display_name": "denoise_env",
   "language": "python",
   "name": "python3"
  },
  "language_info": {
   "codemirror_mode": {
    "name": "ipython",
    "version": 3
   },
   "file_extension": ".py",
   "mimetype": "text/x-python",
   "name": "python",
   "nbconvert_exporter": "python",
   "pygments_lexer": "ipython3",
   "version": "3.12.2"
  }
 },
 "nbformat": 4,
 "nbformat_minor": 5
}
