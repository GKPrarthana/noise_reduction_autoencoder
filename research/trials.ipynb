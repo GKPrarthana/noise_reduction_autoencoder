{
 "cells": [
  {
   "cell_type": "code",
   "execution_count": 6,
   "id": "5ed6ba7b",
   "metadata": {},
   "outputs": [],
   "source": [
    "import os\n",
    "import gdown"
   ]
  },
  {
   "cell_type": "code",
   "execution_count": 7,
   "id": "23fa0019",
   "metadata": {},
   "outputs": [
    {
     "data": {
      "text/plain": [
       "['https:',\n",
       " '',\n",
       " 'drive.google.com',\n",
       " 'file',\n",
       " 'd',\n",
       " '1ZP9_zpYnEDjv6S6H8rbWAYHJsS2rw73f',\n",
       " 'view?usp=sharing']"
      ]
     },
     "execution_count": 7,
     "metadata": {},
     "output_type": "execute_result"
    }
   ],
   "source": [
    "url = 'https://drive.google.com/file/d/1ZP9_zpYnEDjv6S6H8rbWAYHJsS2rw73f/view?usp=sharing'\n",
    "url.split('/')"
   ]
  },
  {
   "cell_type": "code",
   "execution_count": 8,
   "id": "abd519b2",
   "metadata": {},
   "outputs": [
    {
     "data": {
      "text/plain": [
       "'1ZP9_zpYnEDjv6S6H8rbWAYHJsS2rw73f'"
      ]
     },
     "execution_count": 8,
     "metadata": {},
     "output_type": "execute_result"
    }
   ],
   "source": [
    "url.split('/')[-2]  # this is the file id"
   ]
  },
  {
   "cell_type": "code",
   "execution_count": 9,
   "id": "142caaa2",
   "metadata": {},
   "outputs": [
    {
     "data": {
      "text/plain": [
       "'1ZP9_zpYnEDjv6S6H8rbWAYHJsS2rw73f'"
      ]
     },
     "execution_count": 9,
     "metadata": {},
     "output_type": "execute_result"
    }
   ],
   "source": [
    "file_id = url.split('/')[-2]\n",
    "file_id"
   ]
  },
  {
   "cell_type": "code",
   "execution_count": 10,
   "id": "0e7c80c3",
   "metadata": {},
   "outputs": [],
   "source": [
    "prefix = 'https://drive.google.com/uc?/export=download&id='"
   ]
  },
  {
   "cell_type": "code",
   "execution_count": 6,
   "id": "e717e771",
   "metadata": {},
   "outputs": [
    {
     "name": "stderr",
     "output_type": "stream",
     "text": [
      "Downloading...\n",
      "From (original): https://drive.google.com/uc?/export=download&id=1ZP9_zpYnEDjv6S6H8rbWAYHJsS2rw73f\n",
      "From (redirected): https://drive.google.com/uc?%2Fexport=download&id=1ZP9_zpYnEDjv6S6H8rbWAYHJsS2rw73f&confirm=t&uuid=1964a28b-b3cb-48ef-bbe1-0d3d75584e1c\n",
      "To: c:\\Users\\Prarthana\\Desktop\\projects\\noise_reduction_autoencoder\\research\\phneumonia_xray_data.zip\n",
      "100%|██████████| 77.7M/77.7M [00:34<00:00, 2.27MB/s]\n"
     ]
    },
    {
     "data": {
      "text/plain": [
       "'phneumonia_xray_data.zip'"
      ]
     },
     "execution_count": 6,
     "metadata": {},
     "output_type": "execute_result"
    }
   ],
   "source": [
    "gdown.download(prefix+file_id,\"phneumonia_xray_data.zip\")"
   ]
  },
  {
   "cell_type": "code",
   "execution_count": null,
   "id": "0bbcde6a",
   "metadata": {},
   "outputs": [],
   "source": []
  }
 ],
 "metadata": {
  "kernelspec": {
   "display_name": "denoise_env",
   "language": "python",
   "name": "python3"
  },
  "language_info": {
   "codemirror_mode": {
    "name": "ipython",
    "version": 3
   },
   "file_extension": ".py",
   "mimetype": "text/x-python",
   "name": "python",
   "nbconvert_exporter": "python",
   "pygments_lexer": "ipython3",
   "version": "3.12.2"
  }
 },
 "nbformat": 4,
 "nbformat_minor": 5
}
